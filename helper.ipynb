{
 "cells": [
  {
   "cell_type": "code",
   "execution_count": null,
   "metadata": {},
   "outputs": [],
   "source": []
  },
  {
   "cell_type": "code",
   "execution_count": 27,
   "metadata": {},
   "outputs": [],
   "source": [
    "\n",
    "from backdoor.defense import FoolsGold\n",
    "import torch\n",
    "\n",
    "name = \"foolsgold\"\n",
    "memory_size = 0\n",
    "\n",
    "defender = FoolsGold(name)\n",
    "state_dict_list = torch.load(\"/root/autodl-tmp/GitRepos/BackdoorFIT/output/natural_instruction_20000_fedavg_c5s5_i40_b4a1_l1024_r128a256_pTruenbadnetspcr0.1pr0.1_2024-05-20_11-30-38/locals/local_dict_list_30.pth\")\n",
    "local_state_list = state_dict_list[:-1]\n",
    "global_state = state_dict_list[-1]\n"
   ]
  },
  {
   "cell_type": "code",
   "execution_count": 26,
   "metadata": {},
   "outputs": [
    {
     "name": "stdout",
     "output_type": "stream",
     "text": [
      "START Aggregating history of gradient directions\n",
      "wv: [0.34245991 0.71251132 0.34245991 0.72634877 1.        ]\n",
      "[0.10962997 0.22809268 0.10962997 0.23252239 0.32012498]\n"
     ]
    }
   ],
   "source": [
    "from utils import flatten_dict\n",
    "import numpy as np \n",
    "\n",
    "key_order = global_state.keys()\n",
    "total_params = sum(p.numel() for p in global_state.values())\n",
    "clients_this_round = list(range(len(local_state_list)))\n",
    "\n",
    "flatten_global_model = flatten_dict(global_state, key_order)\n",
    "delta = np.zeros((len(local_state_list), total_params))\n",
    "summed_deltas = np.zeros((len(local_state_list), total_params))\n",
    "\n",
    "for client_idx in range(len(local_state_list)):\n",
    "    flatten_local_model = flatten_dict(local_state_list[client_idx], key_order)\n",
    "    local_update = flatten_local_model - flatten_global_model\n",
    "    local_update = local_update.detach().cpu().numpy()\n",
    "    delta[client_idx,:] = local_update\n",
    "# normalize delta\n",
    "    if np.linalg.norm(delta[client_idx, :]) > 1:\n",
    "        delta[client_idx, :] = delta[client_idx, :] / np.linalg.norm(delta[client_idx, :])\n",
    "\n",
    "    summed_deltas[clients_this_round,:] = summed_deltas[clients_this_round,:] + delta[clients_this_round,:]\n",
    "\n",
    "n_freq = defender(delta[clients_this_round,:], summed_deltas[clients_this_round, :], global_state, round, \"0\", len(local_state_list), total_params, key_order)\n",
    "print(n_freq)\n"
   ]
  },
  {
   "cell_type": "code",
   "execution_count": 28,
   "metadata": {},
   "outputs": [
    {
     "name": "stdout",
     "output_type": "stream",
     "text": [
      "START Aggregating history of gradient directions\n",
      "wv: [0.50874185 1.         0.50874185 0.54659196 0.54659196]\n",
      "5 [0.16354748 0.3214744  0.16354748 0.17571532 0.17571532]\n",
      "START Aggregating history of gradient directions\n",
      "wv: [0.59609011 1.         0.57768263 0.59609011 0.57768263]\n",
      "10 [0.17806782 0.29872634 0.17256902 0.17806782 0.17256902]\n",
      "START Aggregating history of gradient directions\n",
      "wv: [0.34245991 0.71251132 0.34245991 0.72634877 1.        ]\n",
      "15 [0.10962997 0.22809268 0.10962997 0.23252239 0.32012498]\n",
      "START Aggregating history of gradient directions\n",
      "wv: [0.5477578 0.5449403 1.        0.5477578 0.5449403]\n",
      "20 [0.17195908 0.17107458 0.31393269 0.17195908 0.17107458]\n",
      "START Aggregating history of gradient directions\n",
      "wv: [0.37817432 0.05710702 1.         0.37817432 0.05710702]\n",
      "25 [0.20217142 0.03052933 0.5345985  0.20217142 0.03052933]\n",
      "START Aggregating history of gradient directions\n",
      "wv: [0.6627964  0.23792905 0.23792905 1.         0.6627964 ]\n",
      "30 [0.2365904  0.08493065 0.08493065 0.35695789 0.2365904 ]\n",
      "START Aggregating history of gradient directions\n",
      "wv: [1.         0.50865103 1.         0.44653488 0.44653488]\n",
      "35 [0.29396886 0.14952757 0.29396886 0.13126735 0.13126735]\n"
     ]
    }
   ],
   "source": [
    "from backdoor.defense import FoolsGold\n",
    "import torch\n",
    "\n",
    "name = \"foolsgold\"\n",
    "memory_size = 0\n",
    "\n",
    "rounds = [5, 10, 15, 20, 25, 30, 35]\n",
    "defender = FoolsGold(name)\n",
    "\n",
    "for round in rounds:\n",
    "\n",
    "    state_dict_list = torch.load(f\"/root/autodl-tmp/GitRepos/BackdoorFIT/output/natural_instruction_20000_fedavg_c5s5_i40_b4a1_l1024_r128a256_pTruenbadnetspcr0.1pr0.1_2024-05-20_11-30-38/locals/local_dict_list_{round}.pth\")\n",
    "    local_state_list = state_dict_list[:-1]\n",
    "    global_state = state_dict_list[-1]\n",
    "    \n",
    "    \n",
    "    from utils import flatten_dict\n",
    "    import numpy as np \n",
    "\n",
    "    key_order = global_state.keys()\n",
    "    total_params = sum(p.numel() for p in global_state.values())\n",
    "    clients_this_round = list(range(len(local_state_list)))\n",
    "\n",
    "    flatten_global_model = flatten_dict(global_state, key_order)\n",
    "    delta = np.zeros((len(local_state_list), total_params))\n",
    "    summed_deltas = np.zeros((len(local_state_list), total_params))\n",
    "\n",
    "    for client_idx in range(len(local_state_list)):\n",
    "        flatten_local_model = flatten_dict(local_state_list[client_idx], key_order)\n",
    "        local_update = flatten_local_model - flatten_global_model\n",
    "        local_update = local_update.detach().cpu().numpy()\n",
    "        delta[client_idx,:] = local_update\n",
    "# normalize delta\n",
    "        if np.linalg.norm(delta[client_idx, :]) > 1:\n",
    "            delta[client_idx, :] = delta[client_idx, :] / np.linalg.norm(delta[client_idx, :])\n",
    "\n",
    "        summed_deltas[clients_this_round,:] = summed_deltas[clients_this_round,:] + delta[clients_this_round,:]\n",
    "\n",
    "    n_freq = defender(delta[clients_this_round,:], summed_deltas[clients_this_round, :], global_state, round, \"0\", len(local_state_list), total_params, key_order)\n",
    "    print(round, n_freq)"
   ]
  },
  {
   "cell_type": "code",
   "execution_count": 23,
   "metadata": {},
   "outputs": [],
   "source": [
    "import sklearn.metrics.pairwise as smp\n",
    "cs = smp.cosine_similarity(summed_deltas) - np.eye(len(local_state_list))"
   ]
  },
  {
   "cell_type": "code",
   "execution_count": 24,
   "metadata": {},
   "outputs": [
    {
     "name": "stdout",
     "output_type": "stream",
     "text": [
      "2.4225066397320916e-13 0.00032732961575713973 0.44669911814154023 0.4759983418993628 0.3949878837597612\n",
      "0.00032732961575713973 0.0 0.0002412932601735299 0.0003475241320809415 0.0003179499799409736\n",
      "0.44669911814154023 0.0002412932601735299 0.0 0.44443827802898817 0.48059154841785146\n",
      "0.4759983418993628 0.0003475241320809415 0.44443827802898817 3.752553823233029e-14 0.4099465358149259\n",
      "0.3949878837597612 0.0003179499799409736 0.48059154841785146 0.4099465358149259 0.0\n"
     ]
    }
   ],
   "source": [
    "cs[cs<0] = 0\n",
    "cs[cs>1] = 1\n",
    "for i in range(5):\n",
    "    print( cs[i, 0], cs[i, 1],cs[i, 2],cs[i, 3],cs[i, 4])"
   ]
  },
  {
   "cell_type": "code",
   "execution_count": 30,
   "metadata": {},
   "outputs": [
    {
     "name": "stdout",
     "output_type": "stream",
     "text": [
      "0 2\n",
      "1 1\n",
      "2 1\n",
      "3 1\n",
      "4 1\n",
      "5 1\n",
      "6 2\n",
      "7 2\n",
      "8 4\n",
      "9 1\n",
      "10 3\n",
      "11 0\n",
      "12 4\n",
      "13 1\n",
      "14 4\n",
      "15 1\n",
      "16 2\n",
      "17 4\n",
      "18 2\n",
      "19 2\n",
      "20 4\n",
      "21 2\n",
      "22 4\n",
      "23 1\n",
      "24 2\n",
      "25 2\n",
      "26 1\n",
      "27 3\n",
      "28 4\n",
      "29 3\n",
      "30 1\n",
      "31 4\n",
      "32 3\n",
      "33 4\n",
      "34 2\n",
      "35 2\n",
      "36 1\n"
     ]
    }
   ],
   "source": [
    "data_file = \"/home/zx/nas/GitRepos/BackdoorFIT/data/natural-instructions/train/0.json\"\n",
    "\n"
   ]
  }
 ],
 "metadata": {
  "kernelspec": {
   "display_name": "fedllm",
   "language": "python",
   "name": "python3"
  },
  "language_info": {
   "codemirror_mode": {
    "name": "ipython",
    "version": 3
   },
   "file_extension": ".py",
   "mimetype": "text/x-python",
   "name": "python",
   "nbconvert_exporter": "python",
   "pygments_lexer": "ipython3",
   "version": "3.10.13"
  }
 },
 "nbformat": 4,
 "nbformat_minor": 2
}
